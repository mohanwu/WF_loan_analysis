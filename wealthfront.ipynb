{
 "cells": [
  {
   "cell_type": "markdown",
   "metadata": {
    "deletable": true,
    "editable": true
   },
   "source": [
    "# Load Packages, Load Data, Prepare Target Variable"
   ]
  },
  {
   "cell_type": "code",
   "execution_count": 1,
   "metadata": {
    "collapsed": false,
    "deletable": true,
    "editable": true,
    "scrolled": true
   },
   "outputs": [
    {
     "data": {
      "text/html": [
       "<script>requirejs.config({paths: { 'plotly': ['https://cdn.plot.ly/plotly-latest.min']},});if(!window.Plotly) {{require(['plotly'],function(plotly) {window.Plotly=plotly;});}}</script>"
      ],
      "text/vnd.plotly.v1+html": [
       "<script>requirejs.config({paths: { 'plotly': ['https://cdn.plot.ly/plotly-latest.min']},});if(!window.Plotly) {{require(['plotly'],function(plotly) {window.Plotly=plotly;});}}</script>"
      ]
     },
     "metadata": {},
     "output_type": "display_data"
    },
    {
     "name": "stderr",
     "output_type": "stream",
     "text": [
      "C:\\Users\\Mohan\\Anaconda3\\lib\\site-packages\\statsmodels\\compat\\pandas.py:56: FutureWarning:\n",
      "\n",
      "The pandas.core.datetools module is deprecated and will be removed in a future version. Please use the pandas.tseries module instead.\n",
      "\n"
     ]
    }
   ],
   "source": [
    "import plotly.graph_objs as go\n",
    "import plotly.offline as py\n",
    "%matplotlib inline\n",
    "py.init_notebook_mode(connected=True)\n",
    "import numpy as np\n",
    "import seaborn as sns\n",
    "import matplotlib.pyplot as plt\n",
    "import pandas as pd\n",
    "import missingno as msno\n",
    "from sklearn.metrics import log_loss, precision_score, recall_score\n",
    "import statsmodels.api as sm\n",
    "from scipy import stats\n",
    "from sklearn.ensemble import RandomForestClassifier\n",
    "from sklearn.model_selection import train_test_split"
   ]
  },
  {
   "cell_type": "code",
   "execution_count": 2,
   "metadata": {
    "collapsed": true,
    "deletable": true,
    "editable": true,
    "scrolled": true
   },
   "outputs": [],
   "source": [
    "data = pd.read_table('loan_data.txt')\n",
    "data = data[data['loan_status'].notnull()]\n",
    "data['loan'] = np.where((data['loan_status']=='Fully Paid') | (data['loan_status']=='Current'), 1, 0)\n",
    "data =data.drop('loan_status', axis=1)"
   ]
  },
  {
   "cell_type": "markdown",
   "metadata": {
    "deletable": true,
    "editable": true
   },
   "source": [
    "# Preprocess"
   ]
  },
  {
   "cell_type": "markdown",
   "metadata": {
    "deletable": true,
    "editable": true
   },
   "source": [
    "### Data Cleaning"
   ]
  },
  {
   "cell_type": "code",
   "execution_count": 3,
   "metadata": {
    "collapsed": false,
    "deletable": true,
    "editable": true,
    "scrolled": true
   },
   "outputs": [
    {
     "data": {
      "text/html": [
       "<div>\n",
       "<style scoped>\n",
       "    .dataframe tbody tr th:only-of-type {\n",
       "        vertical-align: middle;\n",
       "    }\n",
       "\n",
       "    .dataframe tbody tr th {\n",
       "        vertical-align: top;\n",
       "    }\n",
       "\n",
       "    .dataframe thead th {\n",
       "        text-align: right;\n",
       "    }\n",
       "</style>\n",
       "<table border=\"1\" class=\"dataframe\">\n",
       "  <thead>\n",
       "    <tr style=\"text-align: right;\">\n",
       "      <th></th>\n",
       "      <th>id</th>\n",
       "      <th>loan_amnt</th>\n",
       "      <th>funded_amnt</th>\n",
       "      <th>term</th>\n",
       "      <th>int_rate</th>\n",
       "      <th>installment</th>\n",
       "      <th>emp_length</th>\n",
       "      <th>home_ownership</th>\n",
       "      <th>annual_inc</th>\n",
       "      <th>purpose</th>\n",
       "      <th>...</th>\n",
       "      <th>total_pymnt</th>\n",
       "      <th>total_rec_prncp</th>\n",
       "      <th>total_rec_int</th>\n",
       "      <th>wtd_loans</th>\n",
       "      <th>interest_rate</th>\n",
       "      <th>int_rate2</th>\n",
       "      <th>num_rate</th>\n",
       "      <th>numrate</th>\n",
       "      <th>int_rate3</th>\n",
       "      <th>loan</th>\n",
       "    </tr>\n",
       "  </thead>\n",
       "  <tbody>\n",
       "    <tr>\n",
       "      <th>0</th>\n",
       "      <td>641849</td>\n",
       "      <td>13200</td>\n",
       "      <td>13200</td>\n",
       "      <td>36 months</td>\n",
       "      <td>18.49</td>\n",
       "      <td>480.47</td>\n",
       "      <td>2 years</td>\n",
       "      <td>RENT</td>\n",
       "      <td>110000.0</td>\n",
       "      <td>debt_consolidation</td>\n",
       "      <td>...</td>\n",
       "      <td>4324.23</td>\n",
       "      <td>2653.07</td>\n",
       "      <td>1671.16</td>\n",
       "      <td>NaN</td>\n",
       "      <td>NaN</td>\n",
       "      <td>18.49%</td>\n",
       "      <td>NaN</td>\n",
       "      <td>NaN</td>\n",
       "      <td>18.49</td>\n",
       "      <td>1</td>\n",
       "    </tr>\n",
       "    <tr>\n",
       "      <th>1</th>\n",
       "      <td>734736</td>\n",
       "      <td>21600</td>\n",
       "      <td>21600</td>\n",
       "      <td>36 months</td>\n",
       "      <td>7.90</td>\n",
       "      <td>675.87</td>\n",
       "      <td>10+ years</td>\n",
       "      <td>MORTGAGE</td>\n",
       "      <td>95000.0</td>\n",
       "      <td>house</td>\n",
       "      <td>...</td>\n",
       "      <td>23521.69</td>\n",
       "      <td>21600.00</td>\n",
       "      <td>1921.69</td>\n",
       "      <td>NaN</td>\n",
       "      <td>NaN</td>\n",
       "      <td>7.90%</td>\n",
       "      <td>NaN</td>\n",
       "      <td>NaN</td>\n",
       "      <td>7.90</td>\n",
       "      <td>1</td>\n",
       "    </tr>\n",
       "    <tr>\n",
       "      <th>2</th>\n",
       "      <td>807342</td>\n",
       "      <td>21000</td>\n",
       "      <td>21000</td>\n",
       "      <td>36 months</td>\n",
       "      <td>6.62</td>\n",
       "      <td>644.78</td>\n",
       "      <td>10+ years</td>\n",
       "      <td>MORTGAGE</td>\n",
       "      <td>121392.0</td>\n",
       "      <td>major_purchase</td>\n",
       "      <td>...</td>\n",
       "      <td>7092.58</td>\n",
       "      <td>5981.40</td>\n",
       "      <td>1111.18</td>\n",
       "      <td>NaN</td>\n",
       "      <td>NaN</td>\n",
       "      <td>6.62%</td>\n",
       "      <td>NaN</td>\n",
       "      <td>NaN</td>\n",
       "      <td>6.62</td>\n",
       "      <td>1</td>\n",
       "    </tr>\n",
       "    <tr>\n",
       "      <th>3</th>\n",
       "      <td>880114</td>\n",
       "      <td>5600</td>\n",
       "      <td>5600</td>\n",
       "      <td>36 months</td>\n",
       "      <td>9.99</td>\n",
       "      <td>180.67</td>\n",
       "      <td>1 year</td>\n",
       "      <td>RENT</td>\n",
       "      <td>75000.0</td>\n",
       "      <td>debt_consolidation</td>\n",
       "      <td>...</td>\n",
       "      <td>903.35</td>\n",
       "      <td>681.50</td>\n",
       "      <td>221.85</td>\n",
       "      <td>NaN</td>\n",
       "      <td>NaN</td>\n",
       "      <td>9.99%</td>\n",
       "      <td>NaN</td>\n",
       "      <td>NaN</td>\n",
       "      <td>9.99</td>\n",
       "      <td>1</td>\n",
       "    </tr>\n",
       "    <tr>\n",
       "      <th>4</th>\n",
       "      <td>999547</td>\n",
       "      <td>16000</td>\n",
       "      <td>16000</td>\n",
       "      <td>36 months</td>\n",
       "      <td>10.16</td>\n",
       "      <td>517.48</td>\n",
       "      <td>NaN</td>\n",
       "      <td>RENT</td>\n",
       "      <td>155000.0</td>\n",
       "      <td>debt_consolidation</td>\n",
       "      <td>...</td>\n",
       "      <td>5391.45</td>\n",
       "      <td>4000.21</td>\n",
       "      <td>1365.39</td>\n",
       "      <td>NaN</td>\n",
       "      <td>NaN</td>\n",
       "      <td>10.16%</td>\n",
       "      <td>NaN</td>\n",
       "      <td>NaN</td>\n",
       "      <td>10.16</td>\n",
       "      <td>0</td>\n",
       "    </tr>\n",
       "  </tbody>\n",
       "</table>\n",
       "<p>5 rows × 29 columns</p>\n",
       "</div>"
      ],
      "text/plain": [
       "       id  loan_amnt  funded_amnt        term  int_rate  installment  \\\n",
       "0  641849      13200        13200   36 months     18.49       480.47   \n",
       "1  734736      21600        21600   36 months      7.90       675.87   \n",
       "2  807342      21000        21000   36 months      6.62       644.78   \n",
       "3  880114       5600         5600   36 months      9.99       180.67   \n",
       "4  999547      16000        16000   36 months     10.16       517.48   \n",
       "\n",
       "  emp_length home_ownership  annual_inc             purpose  ...  total_pymnt  \\\n",
       "0    2 years           RENT    110000.0  debt_consolidation  ...      4324.23   \n",
       "1  10+ years       MORTGAGE     95000.0               house  ...     23521.69   \n",
       "2  10+ years       MORTGAGE    121392.0      major_purchase  ...      7092.58   \n",
       "3     1 year           RENT     75000.0  debt_consolidation  ...       903.35   \n",
       "4        NaN           RENT    155000.0  debt_consolidation  ...      5391.45   \n",
       "\n",
       "   total_rec_prncp  total_rec_int wtd_loans  interest_rate  int_rate2  \\\n",
       "0          2653.07        1671.16       NaN            NaN     18.49%   \n",
       "1         21600.00        1921.69       NaN            NaN      7.90%   \n",
       "2          5981.40        1111.18       NaN            NaN      6.62%   \n",
       "3           681.50         221.85       NaN            NaN      9.99%   \n",
       "4          4000.21        1365.39       NaN            NaN     10.16%   \n",
       "\n",
       "   num_rate  numrate  int_rate3  loan  \n",
       "0       NaN      NaN      18.49     1  \n",
       "1       NaN      NaN       7.90     1  \n",
       "2       NaN      NaN       6.62     1  \n",
       "3       NaN      NaN       9.99     1  \n",
       "4       NaN      NaN      10.16     0  \n",
       "\n",
       "[5 rows x 29 columns]"
      ]
     },
     "execution_count": 3,
     "metadata": {},
     "output_type": "execute_result"
    }
   ],
   "source": [
    "data.head()"
   ]
  },
  {
   "cell_type": "code",
   "execution_count": 4,
   "metadata": {
    "collapsed": true,
    "deletable": true,
    "editable": true,
    "scrolled": true
   },
   "outputs": [],
   "source": [
    "data = data.replace('n/a', np.nan)"
   ]
  },
  {
   "cell_type": "code",
   "execution_count": 5,
   "metadata": {
    "collapsed": false,
    "deletable": true,
    "editable": true,
    "scrolled": true
   },
   "outputs": [],
   "source": [
    "data['earliest_cr_line'] = pd.to_datetime(data['earliest_cr_line'])\n",
    "min_time = min(data['earliest_cr_line'])\n",
    "data['earliest_cr_day'] = (data['earliest_cr_line']-min_time).dt.days\n",
    "data = data.drop('earliest_cr_line', axis=1)"
   ]
  },
  {
   "cell_type": "markdown",
   "metadata": {
    "deletable": true,
    "editable": true
   },
   "source": [
    "### Missing Value Checks"
   ]
  },
  {
   "cell_type": "code",
   "execution_count": 6,
   "metadata": {
    "collapsed": false,
    "deletable": true,
    "editable": true,
    "scrolled": true
   },
   "outputs": [
    {
     "data": {
      "image/png": "[encoded data removed]",
      "text/plain": [
       "<matplotlib.figure.Figure at 0x2319d062fd0>"
      ]
     },
     "metadata": {},
     "output_type": "display_data"
    }
   ],
   "source": [
    "msno.matrix(df=data, figsize=(20, 10), color=(0.42, 0.1, 0.05))"
   ]
  },
  {
   "cell_type": "code",
   "execution_count": 7,
   "metadata": {
    "collapsed": false,
    "deletable": true,
    "editable": true,
    "scrolled": true
   },
   "outputs": [
    {
     "name": "stdout",
     "output_type": "stream",
     "text": [
      "(0.5695086098278035, 0.04252414951700966)\n"
     ]
    }
   ],
   "source": [
    "print((sum(data['mths_since_last_delinq'].isnull())/len(data), sum(data['emp_length'].isnull())/len(data)))"
   ]
  },
  {
   "cell_type": "code",
   "execution_count": 8,
   "metadata": {
    "collapsed": false,
    "deletable": true,
    "editable": true,
    "scrolled": true
   },
   "outputs": [
    {
     "name": "stdout",
     "output_type": "stream",
     "text": [
      "(0.945679012345679, 0.9526459470810584)\n"
     ]
    }
   ],
   "source": [
    "print((sum(data[data['emp_length'].isnull()]['loan'])/len(data[data['emp_length'].isnull()]), \n",
    " sum(data['loan'])/len(data['loan'])))"
   ]
  },
  {
   "cell_type": "code",
   "execution_count": 9,
   "metadata": {
    "collapsed": false,
    "deletable": true,
    "editable": true,
    "scrolled": true
   },
   "outputs": [],
   "source": [
    "data['emp_length']=data['emp_length'].str.strip(' years')\n",
    "data['emp_length']=data['emp_length'].str.strip('+')\n",
    "data['emp_length']=data['emp_length'].str.strip('< ')\n",
    "data['emp_length']=data['emp_length'].astype('float')\n",
    "data['emp_length']= data['emp_length'].fillna(data['emp_length'].median())"
   ]
  },
  {
   "cell_type": "code",
   "execution_count": 10,
   "metadata": {
    "collapsed": false,
    "deletable": true,
    "editable": true,
    "scrolled": true
   },
   "outputs": [
    {
     "name": "stdout",
     "output_type": "stream",
     "text": [
      "AxesSubplot(0.125,0.125;0.62x0.755)\n"
     ]
    },
    {
     "data": {
      "image/png": "[encoded data removed]",
      "text/plain": [
       "<matplotlib.figure.Figure at 0x2319e5790b8>"
      ]
     },
     "metadata": {},
     "output_type": "display_data"
    }
   ],
   "source": [
    "corr = data.corr()\n",
    "print(sns.heatmap(corr, \n",
    "            xticklabels=corr.columns.values,\n",
    "            yticklabels=corr.columns.values))"
   ]
  },
  {
   "cell_type": "code",
   "execution_count": 11,
   "metadata": {
    "collapsed": false,
    "deletable": true,
    "editable": true,
    "scrolled": true
   },
   "outputs": [],
   "source": [
    "data = data.drop(['wtd_loans', 'interest_rate', 'num_rate', 'numrate', 'int_rate2',\n",
    "                  'int_rate3', 'funded_amnt', 'installment', 'total_rec_prncp', 'mths_since_last_delinq'],axis=1)"
   ]
  },
  {
   "cell_type": "code",
   "execution_count": 12,
   "metadata": {
    "collapsed": false,
    "deletable": true,
    "editable": true,
    "scrolled": true
   },
   "outputs": [],
   "source": [
    "data = pd.get_dummies(data)"
   ]
  },
  {
   "cell_type": "code",
   "execution_count": 13,
   "metadata": {
    "collapsed": false,
    "deletable": true,
    "editable": true,
    "scrolled": true
   },
   "outputs": [
    {
     "data": {
      "application/vnd.plotly.v1+json": {
       "data": [
        {
         "text": "Distribution of target variable",
         "type": "bar",
         "x": [
          1,
          0
         ],
         "y": [
          9073,
          451
         ]
        }
       ],
       "layout": {
        "title": "Target variable distribution"
       }
      },
      "text/html": [
       "<div id=\"08e24a7e-2958-4b82-9724-21f4a1f1e0f8\" style=\"height: 525px; width: 100%;\" class=\"plotly-graph-div\"></div><script type=\"text/javascript\">require([\"plotly\"], function(Plotly) { window.PLOTLYENV=window.PLOTLYENV || {};window.PLOTLYENV.BASE_URL=\"https://plot.ly\";Plotly.newPlot(\"08e24a7e-2958-4b82-9724-21f4a1f1e0f8\", [{\"text\": \"Distribution of target variable\", \"y\": [9073, 451], \"type\": \"bar\", \"x\": [1, 0]}], {\"title\": \"Target variable distribution\"}, {\"showLink\": true, \"linkText\": \"Export to plot.ly\"})});</script>"
      ],
      "text/vnd.plotly.v1+html": [
       "<div id=\"08e24a7e-2958-4b82-9724-21f4a1f1e0f8\" style=\"height: 525px; width: 100%;\" class=\"plotly-graph-div\"></div><script type=\"text/javascript\">require([\"plotly\"], function(Plotly) { window.PLOTLYENV=window.PLOTLYENV || {};window.PLOTLYENV.BASE_URL=\"https://plot.ly\";Plotly.newPlot(\"08e24a7e-2958-4b82-9724-21f4a1f1e0f8\", [{\"text\": \"Distribution of target variable\", \"y\": [9073, 451], \"type\": \"bar\", \"x\": [1, 0]}], {\"title\": \"Target variable distribution\"}, {\"showLink\": true, \"linkText\": \"Export to plot.ly\"})});</script>"
      ]
     },
     "metadata": {},
     "output_type": "display_data"
    }
   ],
   "source": [
    "dist = [go.Bar(\n",
    "            x = data['loan'].value_counts().index.values,\n",
    "            y = data['loan'].value_counts().values,\n",
    "            text='Distribution of target variable'\n",
    "    )]\n",
    "layout = go.Layout(\n",
    "    title='Target variable distribution'\n",
    ")\n",
    "\n",
    "fig = go.Figure(data=dist, layout=layout)\n",
    "\n",
    "py.iplot(fig, filename='basic-bar')"
   ]
  },
  {
   "cell_type": "markdown",
   "metadata": {
    "deletable": true,
    "editable": true
   },
   "source": [
    "### Split Train/Test"
   ]
  },
  {
   "cell_type": "code",
   "execution_count": 14,
   "metadata": {
    "collapsed": true,
    "deletable": true,
    "editable": true,
    "scrolled": true
   },
   "outputs": [],
   "source": [
    "x_train, x_test= train_test_split(data,test_size=0.20, random_state=0)"
   ]
  },
  {
   "cell_type": "markdown",
   "metadata": {
    "deletable": true,
    "editable": true
   },
   "source": [
    "# Model Analysis"
   ]
  },
  {
   "cell_type": "markdown",
   "metadata": {
    "deletable": true,
    "editable": true
   },
   "source": [
    "### Random Forest Result"
   ]
  },
  {
   "cell_type": "code",
   "execution_count": 15,
   "metadata": {
    "collapsed": false,
    "deletable": true,
    "editable": true,
    "scrolled": true
   },
   "outputs": [
    {
     "name": "stdout",
     "output_type": "stream",
     "text": [
      "----- Training Done -----\n"
     ]
    }
   ],
   "source": [
    "rf = RandomForestClassifier(n_estimators=100, max_depth=10, min_samples_leaf=6, max_features=0.7, n_jobs=-1, random_state=0)\n",
    "rf.fit(x_train.drop('loan',axis=1), x_train['loan'])\n",
    "features = x_train.columns.values\n",
    "print(\"----- Training Done -----\")"
   ]
  },
  {
   "cell_type": "code",
   "execution_count": 16,
   "metadata": {
    "collapsed": false,
    "deletable": true,
    "editable": true,
    "scrolled": true
   },
   "outputs": [
    {
     "name": "stdout",
     "output_type": "stream",
     "text": [
      "recall:1.0, precision:0.9759358288770054, log_loss:0.10911222829859336, accurary:0.9763779527559056\n"
     ]
    }
   ],
   "source": [
    "rf_test = rf.predict_proba(x_test.drop('loan',axis=1))[:,1]\n",
    "rf_test2 = rf.predict(x_test.drop('loan',axis=1))\n",
    "recall = recall_score(x_test['loan'], rf_test2)\n",
    "precision = precision_score(x_test['loan'], rf_test2)\n",
    "print('recall:{}, precision:{}, log_loss:{}, accurary:{}'.format(recall, precision, log_loss(x_test['loan'], rf_test),\n",
    "                                                                 rf.score(x_test.drop('loan',axis=1), x_test['loan'])))"
   ]
  },
  {
   "cell_type": "code",
   "execution_count": 17,
   "metadata": {
    "collapsed": false,
    "deletable": true,
    "editable": true,
    "scrolled": true
   },
   "outputs": [
    {
     "data": {
      "application/vnd.plotly.v1+json": {
       "data": [
        {
         "orientation": "h",
         "type": "bar",
         "x": [
          0,
          0,
          0,
          0,
          0,
          0,
          0,
          0,
          0,
          0,
          0,
          0,
          0,
          0,
          0,
          0,
          0,
          3.0813519394743673e-06,
          4.58033716222274e-06,
          5.795816275012051e-06,
          1.0780874058217678e-05,
          1.4982907566801337e-05,
          2.458310554003999e-05,
          2.835732809062197e-05,
          2.9984042248069287e-05,
          4.6510189262466986e-05,
          4.7667371648556917e-05,
          5.385295333577749e-05,
          5.639069678598473e-05,
          6.0447579806988966e-05,
          7.734960611069545e-05,
          9.301277494081827e-05,
          0.0001012226168093579,
          0.00013609988234764578,
          0.00014880929708658487,
          0.00018285524858575208,
          0.00021611359845263744,
          0.00022937737674628045,
          0.0002447704496275891,
          0.00024640263545162465,
          0.0002989042601748632,
          0.00034120416225621314,
          0.00035580535718181104,
          0.0003741662126991346,
          0.00040436339417996116,
          0.0004115561788597367,
          0.0004197168849517848,
          0.00042721200062152264,
          0.00045684280422045016,
          0.000491651728352309,
          0.0005193478534152532,
          0.0005798729764460687,
          0.0006029239131290698,
          0.0007375096367968014,
          0.00080299209388684,
          0.0009272217449673129,
          0.0009297528386468906,
          0.0009353287344508278,
          0.0010935483664333016,
          0.0012225161211257233,
          0.0013281209361870815,
          0.001482342654110448,
          0.0015817689986062234,
          0.0015937398468538677,
          0.0016060353999573986,
          0.0019323988689467233,
          0.0061331374957419695,
          0.0063470908268136,
          0.011680645129888385,
          0.015288042343386887,
          0.017974594464937092,
          0.025608329066452096,
          0.03208108653942754,
          0.03459516998866708,
          0.05466316103150306,
          0.06314472984821318,
          0.13842238686827094,
          0.18381560926892315,
          0.3863261451204383
         ],
         "y": [
          "addr_state_DC",
          "addr_state_MO",
          "addr_state_NC",
          "addr_state_NJ",
          "addr_state_RI",
          "addr_state_SC",
          "addr_state_VA",
          "addr_state_WA",
          "addr_state_WI",
          "addr_state_WV",
          "home_ownership_MORTGAGE",
          "home_ownership_NONE",
          "home_ownership_RENT",
          "purpose_medical",
          "purpose_other",
          "purpose_small_business",
          "purpose_wedding",
          "addr_state_AK",
          "addr_state_IL",
          "addr_state_NH",
          "addr_state_IN",
          "addr_state_MA",
          "addr_state_NY",
          "addr_state_MI",
          "addr_state_AR",
          "addr_state_VT",
          "addr_state_OR",
          "addr_state_CA",
          "addr_state_MN",
          "purpose_vacation",
          "addr_state_SD",
          "addr_state_OH",
          "addr_state_HI",
          "addr_state_FL",
          "addr_state_UT",
          "purpose_car",
          "addr_state_KY",
          "purpose_home_improvement",
          "addr_state_NM",
          "addr_state_CO",
          "addr_state_KS",
          "addr_state_PA",
          "purpose_moving",
          "addr_state_OK",
          "addr_state_AL",
          "addr_state_AZ",
          "addr_state_MT",
          "addr_state_NV",
          "home_ownership_OTHER",
          "purpose_debt_consolidation",
          "purpose_house",
          "delinq_2yrs",
          "addr_state_DE",
          "purpose_renewable_energy",
          "addr_state_LA",
          "purpose_major_purchase",
          "addr_state_CT",
          "term_ 60 months",
          "addr_state_MD",
          "purpose_credit_card",
          "earliest_cr_day",
          "home_ownership_OWN",
          "addr_state_TN",
          "addr_state_TX",
          "term_ 36 months",
          "addr_state_GA",
          "open_acc",
          "emp_length",
          "total_acc",
          "loan",
          "revol_bal",
          "dti",
          "int_rate",
          "annual_inc",
          "id",
          "total_rec_int",
          "out_prncp",
          "loan_amnt",
          "total_pymnt"
         ]
        }
       ],
       "layout": {
        "height": 2000,
        "title": "Feature importances",
        "width": 1000,
        "yaxis": {
         "showgrid": false,
         "showline": false,
         "showticklabels": true
        }
       }
      },
      "text/html": [
       "<div id=\"5c6ef3b1-2870-49e9-a9b9-5ea9eca7a9bd\" style=\"height: 2000px; width: 1000px;\" class=\"plotly-graph-div\"></div><script type=\"text/javascript\">require([\"plotly\"], function(Plotly) { window.PLOTLYENV=window.PLOTLYENV || {};window.PLOTLYENV.BASE_URL=\"https://plot.ly\";Plotly.newPlot(\"5c6ef3b1-2870-49e9-a9b9-5ea9eca7a9bd\", [{\"y\": [\"addr_state_DC\", \"addr_state_MO\", \"addr_state_NC\", \"addr_state_NJ\", \"addr_state_RI\", \"addr_state_SC\", \"addr_state_VA\", \"addr_state_WA\", \"addr_state_WI\", \"addr_state_WV\", \"home_ownership_MORTGAGE\", \"home_ownership_NONE\", \"home_ownership_RENT\", \"purpose_medical\", \"purpose_other\", \"purpose_small_business\", \"purpose_wedding\", \"addr_state_AK\", \"addr_state_IL\", \"addr_state_NH\", \"addr_state_IN\", \"addr_state_MA\", \"addr_state_NY\", \"addr_state_MI\", \"addr_state_AR\", \"addr_state_VT\", \"addr_state_OR\", \"addr_state_CA\", \"addr_state_MN\", \"purpose_vacation\", \"addr_state_SD\", \"addr_state_OH\", \"addr_state_HI\", \"addr_state_FL\", \"addr_state_UT\", \"purpose_car\", \"addr_state_KY\", \"purpose_home_improvement\", \"addr_state_NM\", \"addr_state_CO\", \"addr_state_KS\", \"addr_state_PA\", \"purpose_moving\", \"addr_state_OK\", \"addr_state_AL\", \"addr_state_AZ\", \"addr_state_MT\", \"addr_state_NV\", \"home_ownership_OTHER\", \"purpose_debt_consolidation\", \"purpose_house\", \"delinq_2yrs\", \"addr_state_DE\", \"purpose_renewable_energy\", \"addr_state_LA\", \"purpose_major_purchase\", \"addr_state_CT\", \"term_ 60 months\", \"addr_state_MD\", \"purpose_credit_card\", \"earliest_cr_day\", \"home_ownership_OWN\", \"addr_state_TN\", \"addr_state_TX\", \"term_ 36 months\", \"addr_state_GA\", \"open_acc\", \"emp_length\", \"total_acc\", \"loan\", \"revol_bal\", \"dti\", \"int_rate\", \"annual_inc\", \"id\", \"total_rec_int\", \"out_prncp\", \"loan_amnt\", \"total_pymnt\"], \"x\": [0.0, 0.0, 0.0, 0.0, 0.0, 0.0, 0.0, 0.0, 0.0, 0.0, 0.0, 0.0, 0.0, 0.0, 0.0, 0.0, 0.0, 3.0813519394743673e-06, 4.58033716222274e-06, 5.795816275012051e-06, 1.0780874058217678e-05, 1.4982907566801337e-05, 2.458310554003999e-05, 2.835732809062197e-05, 2.9984042248069287e-05, 4.6510189262466986e-05, 4.7667371648556917e-05, 5.385295333577749e-05, 5.639069678598473e-05, 6.0447579806988966e-05, 7.734960611069545e-05, 9.301277494081827e-05, 0.0001012226168093579, 0.00013609988234764578, 0.00014880929708658487, 0.00018285524858575208, 0.00021611359845263744, 0.00022937737674628045, 0.0002447704496275891, 0.00024640263545162465, 0.0002989042601748632, 0.00034120416225621314, 0.00035580535718181104, 0.0003741662126991346, 0.00040436339417996116, 0.0004115561788597367, 0.0004197168849517848, 0.00042721200062152264, 0.00045684280422045016, 0.000491651728352309, 0.0005193478534152532, 0.0005798729764460687, 0.0006029239131290698, 0.0007375096367968014, 0.00080299209388684, 0.0009272217449673129, 0.0009297528386468906, 0.0009353287344508278, 0.0010935483664333016, 0.0012225161211257233, 0.0013281209361870815, 0.001482342654110448, 0.0015817689986062234, 0.0015937398468538677, 0.0016060353999573986, 0.0019323988689467233, 0.0061331374957419695, 0.0063470908268136, 0.011680645129888385, 0.015288042343386887, 0.017974594464937092, 0.025608329066452096, 0.03208108653942754, 0.03459516998866708, 0.05466316103150306, 0.06314472984821318, 0.13842238686827094, 0.18381560926892315, 0.3863261451204383], \"type\": \"bar\", \"orientation\": \"h\"}], {\"title\": \"Feature importances\", \"height\": 2000, \"yaxis\": {\"showgrid\": false, \"showticklabels\": true, \"showline\": false}, \"width\": 1000}, {\"showLink\": true, \"linkText\": \"Export to plot.ly\"})});</script>"
      ],
      "text/vnd.plotly.v1+html": [
       "<div id=\"5c6ef3b1-2870-49e9-a9b9-5ea9eca7a9bd\" style=\"height: 2000px; width: 1000px;\" class=\"plotly-graph-div\"></div><script type=\"text/javascript\">require([\"plotly\"], function(Plotly) { window.PLOTLYENV=window.PLOTLYENV || {};window.PLOTLYENV.BASE_URL=\"https://plot.ly\";Plotly.newPlot(\"5c6ef3b1-2870-49e9-a9b9-5ea9eca7a9bd\", [{\"y\": [\"addr_state_DC\", \"addr_state_MO\", \"addr_state_NC\", \"addr_state_NJ\", \"addr_state_RI\", \"addr_state_SC\", \"addr_state_VA\", \"addr_state_WA\", \"addr_state_WI\", \"addr_state_WV\", \"home_ownership_MORTGAGE\", \"home_ownership_NONE\", \"home_ownership_RENT\", \"purpose_medical\", \"purpose_other\", \"purpose_small_business\", \"purpose_wedding\", \"addr_state_AK\", \"addr_state_IL\", \"addr_state_NH\", \"addr_state_IN\", \"addr_state_MA\", \"addr_state_NY\", \"addr_state_MI\", \"addr_state_AR\", \"addr_state_VT\", \"addr_state_OR\", \"addr_state_CA\", \"addr_state_MN\", \"purpose_vacation\", \"addr_state_SD\", \"addr_state_OH\", \"addr_state_HI\", \"addr_state_FL\", \"addr_state_UT\", \"purpose_car\", \"addr_state_KY\", \"purpose_home_improvement\", \"addr_state_NM\", \"addr_state_CO\", \"addr_state_KS\", \"addr_state_PA\", \"purpose_moving\", \"addr_state_OK\", \"addr_state_AL\", \"addr_state_AZ\", \"addr_state_MT\", \"addr_state_NV\", \"home_ownership_OTHER\", \"purpose_debt_consolidation\", \"purpose_house\", \"delinq_2yrs\", \"addr_state_DE\", \"purpose_renewable_energy\", \"addr_state_LA\", \"purpose_major_purchase\", \"addr_state_CT\", \"term_ 60 months\", \"addr_state_MD\", \"purpose_credit_card\", \"earliest_cr_day\", \"home_ownership_OWN\", \"addr_state_TN\", \"addr_state_TX\", \"term_ 36 months\", \"addr_state_GA\", \"open_acc\", \"emp_length\", \"total_acc\", \"loan\", \"revol_bal\", \"dti\", \"int_rate\", \"annual_inc\", \"id\", \"total_rec_int\", \"out_prncp\", \"loan_amnt\", \"total_pymnt\"], \"x\": [0.0, 0.0, 0.0, 0.0, 0.0, 0.0, 0.0, 0.0, 0.0, 0.0, 0.0, 0.0, 0.0, 0.0, 0.0, 0.0, 0.0, 3.0813519394743673e-06, 4.58033716222274e-06, 5.795816275012051e-06, 1.0780874058217678e-05, 1.4982907566801337e-05, 2.458310554003999e-05, 2.835732809062197e-05, 2.9984042248069287e-05, 4.6510189262466986e-05, 4.7667371648556917e-05, 5.385295333577749e-05, 5.639069678598473e-05, 6.0447579806988966e-05, 7.734960611069545e-05, 9.301277494081827e-05, 0.0001012226168093579, 0.00013609988234764578, 0.00014880929708658487, 0.00018285524858575208, 0.00021611359845263744, 0.00022937737674628045, 0.0002447704496275891, 0.00024640263545162465, 0.0002989042601748632, 0.00034120416225621314, 0.00035580535718181104, 0.0003741662126991346, 0.00040436339417996116, 0.0004115561788597367, 0.0004197168849517848, 0.00042721200062152264, 0.00045684280422045016, 0.000491651728352309, 0.0005193478534152532, 0.0005798729764460687, 0.0006029239131290698, 0.0007375096367968014, 0.00080299209388684, 0.0009272217449673129, 0.0009297528386468906, 0.0009353287344508278, 0.0010935483664333016, 0.0012225161211257233, 0.0013281209361870815, 0.001482342654110448, 0.0015817689986062234, 0.0015937398468538677, 0.0016060353999573986, 0.0019323988689467233, 0.0061331374957419695, 0.0063470908268136, 0.011680645129888385, 0.015288042343386887, 0.017974594464937092, 0.025608329066452096, 0.03208108653942754, 0.03459516998866708, 0.05466316103150306, 0.06314472984821318, 0.13842238686827094, 0.18381560926892315, 0.3863261451204383], \"type\": \"bar\", \"orientation\": \"h\"}], {\"title\": \"Feature importances\", \"height\": 2000, \"yaxis\": {\"showgrid\": false, \"showticklabels\": true, \"showline\": false}, \"width\": 1000}, {\"showLink\": true, \"linkText\": \"Export to plot.ly\"})});</script>"
      ]
     },
     "metadata": {},
     "output_type": "display_data"
    }
   ],
   "source": [
    "x, y = (list(x) for x in zip(*sorted(zip(rf.feature_importances_, features), \n",
    "                                                            reverse = False)))\n",
    "trace= go.Bar(\n",
    "    x=x, y=y, \n",
    "    orientation='h',\n",
    ")\n",
    "\n",
    "layout = dict(\n",
    "    title='Feature importances',\n",
    "    width = 1000, height = 2000,\n",
    "    yaxis=dict(\n",
    "        showgrid=False,\n",
    "        showline=False,\n",
    "        showticklabels=True,\n",
    "    ))\n",
    "\n",
    "fig1 = go.Figure(data=[trace])\n",
    "fig1['layout'].update(layout)\n",
    "py.iplot(fig1, filename='plots')"
   ]
  },
  {
   "cell_type": "markdown",
   "metadata": {
    "deletable": true,
    "editable": true
   },
   "source": [
    "### Logistic Regression Results"
   ]
  },
  {
   "cell_type": "code",
   "execution_count": 18,
   "metadata": {
    "collapsed": false,
    "deletable": true,
    "editable": true,
    "scrolled": true
   },
   "outputs": [
    {
     "name": "stdout",
     "output_type": "stream",
     "text": [
      "                 Generalized Linear Model Regression Results                  \n",
      "==============================================================================\n",
      "Dep. Variable:                   loan   No. Observations:                 7619\n",
      "Model:                            GLM   Df Residuals:                     7543\n",
      "Model Family:                Binomial   Df Model:                           75\n",
      "Link Function:                  logit   Scale:                             1.0\n",
      "Method:                          IRLS   Log-Likelihood:                -785.40\n",
      "Date:                Sun, 04 Feb 2018   Deviance:                       1570.8\n",
      "Time:                        06:30:28   Pearson chi2:                 1.25e+04\n",
      "No. Iterations:                    23                                         \n",
      "==============================================================================================\n",
      "                                 coef    std err          z      P>|z|      [0.025      0.975]\n",
      "----------------------------------------------------------------------------------------------\n",
      "id                          5.039e-07   5.64e-08      8.938      0.000    3.93e-07    6.14e-07\n",
      "loan_amnt                     -0.0017      0.000     -8.154      0.000      -0.002      -0.001\n",
      "int_rate                      -0.1177      0.025     -4.662      0.000      -0.167      -0.068\n",
      "emp_length                    -0.0038      0.023     -0.163      0.870      -0.049       0.042\n",
      "annual_inc                  1.549e-06   2.65e-06      0.585      0.558   -3.64e-06    6.74e-06\n",
      "dti                           -0.0262      0.011     -2.314      0.021      -0.048      -0.004\n",
      "delinq_2yrs                    0.1025      0.119      0.859      0.391      -0.131       0.337\n",
      "open_acc                       0.0308      0.023      1.324      0.186      -0.015       0.076\n",
      "revol_bal                   8.362e-06    8.1e-06      1.032      0.302   -7.51e-06    2.42e-05\n",
      "total_acc                     -0.0001      0.010     -0.013      0.990      -0.020       0.020\n",
      "out_prncp                      0.0016      0.000      7.659      0.000       0.001       0.002\n",
      "total_pymnt                    0.0020      0.000      9.226      0.000       0.002       0.002\n",
      "total_rec_int                 -0.0018      0.000     -7.115      0.000      -0.002      -0.001\n",
      "earliest_cr_day             6.508e-06   2.93e-05      0.222      0.824    -5.1e-05     6.4e-05\n",
      "term_ 36 months                9.9384   2.32e+04      0.000      1.000   -4.55e+04    4.55e+04\n",
      "term_ 60 months               10.2861   2.32e+04      0.000      1.000   -4.55e+04    4.55e+04\n",
      "home_ownership_MORTGAGE       -4.1575   2.78e+04     -0.000      1.000   -5.45e+04    5.44e+04\n",
      "home_ownership_NONE           16.7516   1.13e+05      0.000      1.000   -2.22e+05    2.22e+05\n",
      "home_ownership_OTHER          16.2012   1.13e+05      0.000      1.000   -2.22e+05    2.22e+05\n",
      "home_ownership_OWN            -4.2995   2.78e+04     -0.000      1.000   -5.45e+04    5.44e+04\n",
      "home_ownership_RENT           -4.2712   2.78e+04     -0.000      1.000   -5.45e+04    5.44e+04\n",
      "purpose_car                   -0.0642   3681.277  -1.74e-05      1.000   -7215.234    7215.106\n",
      "purpose_credit_card           -0.6003   3681.277     -0.000      1.000   -7215.770    7214.569\n",
      "purpose_debt_consolidation    -0.6467   3681.277     -0.000      1.000   -7215.816    7214.523\n",
      "purpose_home_improvement      -0.9960   3681.277     -0.000      1.000   -7216.166    7214.174\n",
      "purpose_house                 -1.3175   3681.277     -0.000      1.000   -7216.487    7213.852\n",
      "purpose_major_purchase        -1.1215   3681.277     -0.000      1.000   -7216.291    7214.048\n",
      "purpose_medical               -1.3389   3681.277     -0.000      1.000   -7216.509    7213.831\n",
      "purpose_moving                 0.1622   3681.277   4.41e-05      1.000   -7215.008    7215.332\n",
      "purpose_other                 -0.5661   3681.277     -0.000      1.000   -7215.736    7214.603\n",
      "purpose_renewable_energy      18.9447   1.26e+04      0.002      0.999   -2.47e+04    2.48e+04\n",
      "purpose_small_business        -0.6364   3681.277     -0.000      1.000   -7215.806    7214.533\n",
      "purpose_vacation               8.5330   3681.790      0.002      0.998   -7207.643    7224.709\n",
      "purpose_wedding               -0.1278   3681.277  -3.47e-05      1.000   -7215.298    7215.042\n",
      "addr_state_AK                 -3.2046   1623.365     -0.002      0.998   -3184.942    3178.533\n",
      "addr_state_AL                 -1.1458   1623.365     -0.001      0.999   -3182.883    3180.592\n",
      "addr_state_AR                 -2.6279   1623.365     -0.002      0.999   -3184.365    3179.109\n",
      "addr_state_AZ                 -1.2212   1623.365     -0.001      0.999   -3182.958    3180.516\n",
      "addr_state_CA                 -2.0740   1623.365     -0.001      0.999   -3183.811    3179.663\n",
      "addr_state_CO                 -1.6253   1623.365     -0.001      0.999   -3183.362    3180.112\n",
      "addr_state_CT                 -2.9142   1623.365     -0.002      0.999   -3184.651    3178.823\n",
      "addr_state_DC                 -3.9670   1623.365     -0.002      0.998   -3185.704    3177.770\n",
      "addr_state_DE                 18.6373   3.11e+04      0.001      1.000   -6.09e+04    6.09e+04\n",
      "addr_state_FL                 -2.1318   1623.365     -0.001      0.999   -3183.869    3179.605\n",
      "addr_state_GA                 -2.0368   1623.365     -0.001      0.999   -3183.774    3179.700\n",
      "addr_state_HI                 -3.1423   1623.365     -0.002      0.998   -3184.879    3178.595\n",
      "addr_state_IL                 -2.0231   1623.365     -0.001      0.999   -3183.760    3179.714\n",
      "addr_state_IN                 -1.9372   1623.365     -0.001      0.999   -3183.674    3179.800\n",
      "addr_state_KS                 -1.8133   1623.365     -0.001      0.999   -3183.551    3179.924\n",
      "addr_state_KY                 -2.5168   1623.365     -0.002      0.999   -3184.254    3179.220\n",
      "addr_state_LA                 -1.8818   1623.365     -0.001      0.999   -3183.619    3179.855\n",
      "addr_state_MA                 -2.4492   1623.365     -0.002      0.999   -3184.186    3179.288\n",
      "addr_state_MD                 -1.7363   1623.365     -0.001      0.999   -3183.473    3180.001\n",
      "addr_state_MI                 -2.7665   1623.365     -0.002      0.999   -3184.503    3178.970\n",
      "addr_state_MN                 -1.6192   1623.365     -0.001      0.999   -3183.356    3180.118\n",
      "addr_state_MO                 -1.4062   1623.365     -0.001      0.999   -3183.143    3180.331\n",
      "addr_state_MT                 18.2771   2.62e+04      0.001      0.999   -5.12e+04    5.13e+04\n",
      "addr_state_NC                 -2.4225   1623.365     -0.001      0.999   -3184.159    3179.314\n",
      "addr_state_NH                  1.1444   1623.373      0.001      0.999   -3180.608    3182.897\n",
      "addr_state_NJ                  0.1050   1623.365   6.47e-05      1.000   -3181.632    3181.842\n",
      "addr_state_NM                 -0.1977   1623.366     -0.000      1.000   -3181.936    3181.541\n",
      "addr_state_NV                 -2.3770   1623.365     -0.001      0.999   -3184.114    3179.360\n",
      "addr_state_NY                 -2.2060   1623.365     -0.001      0.999   -3183.943    3179.531\n",
      "addr_state_OH                 -1.8008   1623.365     -0.001      0.999   -3183.538    3179.936\n",
      "addr_state_OK                 -1.4395   1623.365     -0.001      0.999   -3183.177    3180.298\n",
      "addr_state_OR                 -2.5499   1623.365     -0.002      0.999   -3184.287    3179.187\n",
      "addr_state_PA                 -1.4313   1623.365     -0.001      0.999   -3183.168    3180.306\n",
      "addr_state_RI                 -2.7438   1623.365     -0.002      0.999   -3184.481    3178.993\n",
      "addr_state_SC                 -1.5644   1623.365     -0.001      0.999   -3183.302    3180.173\n",
      "addr_state_SD                 16.2245   1.07e+04      0.002      0.999   -2.09e+04    2.09e+04\n",
      "addr_state_TN                 -2.0843   1623.365     -0.001      0.999   -3183.821    3179.653\n",
      "addr_state_TX                 -2.3566   1623.365     -0.001      0.999   -3184.093    3179.380\n",
      "addr_state_UT                 -3.3031   1623.365     -0.002      0.998   -3185.040    3178.434\n",
      "addr_state_VA                 -1.7096   1623.365     -0.001      0.999   -3183.447    3180.027\n",
      "addr_state_VT                 19.1029   3.29e+04      0.001      1.000   -6.44e+04    6.45e+04\n",
      "addr_state_WA                 -1.5705   1623.365     -0.001      0.999   -3183.307    3180.166\n",
      "addr_state_WI                  0.5717   1623.366      0.000      1.000   -3181.167    3182.310\n",
      "addr_state_WV                 18.6599   1.98e+04      0.001      0.999   -3.88e+04    3.89e+04\n",
      "addr_state_WY                  3.4990   1623.433      0.002      0.998   -3178.371    3185.369\n",
      "==============================================================================================\n"
     ]
    }
   ],
   "source": [
    "log = sm.GLM(x_train['loan'], x_train.drop('loan',axis=1), family=sm.families.Binomial())\n",
    "log = log.fit()\n",
    "print(log.summary())"
   ]
  },
  {
   "cell_type": "code",
   "execution_count": 19,
   "metadata": {
    "collapsed": false,
    "deletable": true,
    "editable": true,
    "scrolled": true
   },
   "outputs": [
    {
     "name": "stdout",
     "output_type": "stream",
     "text": [
      "recall:1.0, precision:0.976457998929909, log_loss:0.10251898442281264, accurary:0.9769028871391076\n"
     ]
    }
   ],
   "source": [
    "log2_test = log.predict(x_test.drop('loan',axis=1))\n",
    "l_test2 = np.array([0]*len(log2_test))\n",
    "l_test2[log2_test > 0.5] = 1\n",
    "l_test2[log2_test <= 0.5] = 0\n",
    "recall = recall_score(x_test['loan'], l_test2)\n",
    "precision = precision_score(x_test['loan'], l_test2)\n",
    "print('recall:{}, precision:{}, log_loss:{}, accurary:{}'.format(recall, precision, log_loss(x_test['loan'], log2_test),\n",
    "                                                                 sum(l_test2==x_test['loan'])/len(l_test2)))"
   ]
  },
  {
   "cell_type": "markdown",
   "metadata": {
    "deletable": true,
    "editable": true
   },
   "source": [
    "### Variable Selection"
   ]
  },
  {
   "cell_type": "code",
   "execution_count": 20,
   "metadata": {
    "collapsed": false,
    "deletable": true,
    "editable": true,
    "scrolled": true
   },
   "outputs": [],
   "source": [
    "x_train = x_train[list(log.params.index[:14])+['loan']]\n",
    "x_test = x_test[list(log.params.index[:14])+['loan']]"
   ]
  },
  {
   "cell_type": "code",
   "execution_count": 21,
   "metadata": {
    "collapsed": false,
    "deletable": true,
    "editable": true,
    "scrolled": true
   },
   "outputs": [
    {
     "name": "stdout",
     "output_type": "stream",
     "text": [
      "                 Generalized Linear Model Regression Results                  \n",
      "==============================================================================\n",
      "Dep. Variable:                   loan   No. Observations:                 7619\n",
      "Model:                            GLM   Df Residuals:                     7605\n",
      "Model Family:                Binomial   Df Model:                           13\n",
      "Link Function:                  logit   Scale:                             1.0\n",
      "Method:                          IRLS   Log-Likelihood:                -834.83\n",
      "Date:                Sun, 04 Feb 2018   Deviance:                       1669.7\n",
      "Time:                        06:30:29   Pearson chi2:                 9.08e+04\n",
      "No. Iterations:                     9                                         \n",
      "===================================================================================\n",
      "                      coef    std err          z      P>|z|      [0.025      0.975]\n",
      "-----------------------------------------------------------------------------------\n",
      "id               5.458e-07   5.25e-08     10.387      0.000    4.43e-07    6.49e-07\n",
      "loan_amnt          -0.0015      0.000     -8.071      0.000      -0.002      -0.001\n",
      "int_rate           -0.0574      0.021     -2.670      0.008      -0.099      -0.015\n",
      "emp_length          0.0320      0.021      1.503      0.133      -0.010       0.074\n",
      "annual_inc       3.827e-06   2.73e-06      1.402      0.161   -1.52e-06    9.18e-06\n",
      "dti                -0.0133      0.011     -1.270      0.204      -0.034       0.007\n",
      "delinq_2yrs         0.0604      0.118      0.513      0.608      -0.170       0.291\n",
      "open_acc            0.0402      0.024      1.710      0.087      -0.006       0.086\n",
      "revol_bal         1.17e-05   8.18e-06      1.431      0.152   -4.32e-06    2.77e-05\n",
      "total_acc           0.0089      0.010      0.900      0.368      -0.011       0.028\n",
      "out_prncp           0.0014      0.000      7.546      0.000       0.001       0.002\n",
      "total_pymnt         0.0019      0.000      9.757      0.000       0.001       0.002\n",
      "total_rec_int      -0.0017      0.000     -7.781      0.000      -0.002      -0.001\n",
      "earliest_cr_day   9.12e-05   2.37e-05      3.841      0.000    4.47e-05       0.000\n",
      "===================================================================================\n"
     ]
    }
   ],
   "source": [
    "log = sm.GLM(x_train['loan'], x_train.drop('loan',axis=1), family=sm.families.Binomial())\n",
    "log = log.fit()\n",
    "print(log.summary())"
   ]
  },
  {
   "cell_type": "code",
   "execution_count": 22,
   "metadata": {
    "collapsed": true,
    "deletable": true,
    "editable": true,
    "scrolled": true
   },
   "outputs": [],
   "source": [
    "def stepwise(data):\n",
    "    log = sm.GLM(data['loan'], data.drop('loan',axis=1), family=sm.families.Binomial())\n",
    "    log = log.fit()\n",
    "    while log.pvalues.max()>0.05:\n",
    "        drop = log.params.index[np.where(log.pvalues==log.pvalues.max())][0]\n",
    "        params = list(log.params.index) + ['loan']\n",
    "        params.remove(drop)\n",
    "        data = data[params]\n",
    "        log = sm.GLM(data['loan'], data.drop('loan',axis=1), family=sm.families.Binomial())\n",
    "        log = log.fit()\n",
    "    return params"
   ]
  },
  {
   "cell_type": "code",
   "execution_count": 23,
   "metadata": {
    "collapsed": false,
    "deletable": true,
    "editable": true,
    "scrolled": true
   },
   "outputs": [],
   "source": [
    "params = stepwise(x_train)\n",
    "x_train = x_train[params]\n",
    "x_test = x_test[params]"
   ]
  },
  {
   "cell_type": "code",
   "execution_count": 24,
   "metadata": {
    "collapsed": false,
    "deletable": true,
    "editable": true,
    "scrolled": true
   },
   "outputs": [
    {
     "name": "stdout",
     "output_type": "stream",
     "text": [
      "                 Generalized Linear Model Regression Results                  \n",
      "==============================================================================\n",
      "Dep. Variable:                   loan   No. Observations:                 7619\n",
      "Model:                            GLM   Df Residuals:                     7610\n",
      "Model Family:                Binomial   Df Model:                            8\n",
      "Link Function:                  logit   Scale:                             1.0\n",
      "Method:                          IRLS   Log-Likelihood:                -837.96\n",
      "Date:                Sun, 04 Feb 2018   Deviance:                       1675.9\n",
      "Time:                        06:30:29   Pearson chi2:                 1.13e+05\n",
      "No. Iterations:                     9                                         \n",
      "===================================================================================\n",
      "                      coef    std err          z      P>|z|      [0.025      0.975]\n",
      "-----------------------------------------------------------------------------------\n",
      "id               5.529e-07   5.21e-08     10.613      0.000    4.51e-07    6.55e-07\n",
      "loan_amnt          -0.0015      0.000     -8.029      0.000      -0.002      -0.001\n",
      "int_rate           -0.0548      0.020     -2.676      0.007      -0.095      -0.015\n",
      "annual_inc       6.501e-06   2.54e-06      2.556      0.011    1.52e-06    1.15e-05\n",
      "open_acc            0.0539      0.017      3.222      0.001       0.021       0.087\n",
      "out_prncp           0.0014      0.000      7.524      0.000       0.001       0.002\n",
      "total_pymnt         0.0019      0.000      9.799      0.000       0.001       0.002\n",
      "total_rec_int      -0.0017      0.000     -7.869      0.000      -0.002      -0.001\n",
      "earliest_cr_day  7.979e-05   2.31e-05      3.456      0.001    3.45e-05       0.000\n",
      "===================================================================================\n"
     ]
    }
   ],
   "source": [
    "log = sm.GLM(x_train['loan'], x_train.drop('loan',axis=1), family=sm.families.Binomial())\n",
    "log = log.fit()\n",
    "print(log.summary())"
   ]
  },
  {
   "cell_type": "code",
   "execution_count": 25,
   "metadata": {
    "collapsed": false,
    "deletable": true,
    "editable": true,
    "scrolled": true
   },
   "outputs": [
    {
     "name": "stdout",
     "output_type": "stream",
     "text": [
      "recall:1.0, precision:0.9769807280513919, log_loss:0.09781878575351201, accurary:0.9774278215223097\n"
     ]
    }
   ],
   "source": [
    "log2_test = log.predict(x_test.drop('loan',axis=1))\n",
    "l_test2 = np.array([0]*len(log2_test))\n",
    "l_test2[log2_test > 0.5] = 1\n",
    "l_test2[log2_test <= 0.5] = 0\n",
    "recall = recall_score(x_test['loan'], l_test2)\n",
    "precision = precision_score(x_test['loan'], l_test2)\n",
    "print('recall:{}, precision:{}, log_loss:{}, accurary:{}'.format(recall, precision, log_loss(x_test['loan'], log2_test),\n",
    "                                                                 sum(l_test2==x_test['loan'])/len(l_test2)))"
   ]
  }
 ],
 "metadata": {
  "kernelspec": {
   "display_name": "Python 3",
   "language": "python",
   "name": "python3"
  },
  "language_info": {
   "codemirror_mode": {
    "name": "ipython",
    "version": 3
   },
   "file_extension": ".py",
   "mimetype": "text/x-python",
   "name": "python",
   "nbconvert_exporter": "python",
   "pygments_lexer": "ipython3",
   "version": "3.5.4"
  }
 },
 "nbformat": 4,
 "nbformat_minor": 2
}
